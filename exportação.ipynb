{
  "nbformat": 4,
  "nbformat_minor": 0,
  "metadata": {
    "colab": {
      "provenance": [],
      "authorship_tag": "ABX9TyO68vmUTkjX2qzcJG9Sq+i1",
      "include_colab_link": true
    },
    "kernelspec": {
      "name": "python3",
      "display_name": "Python 3"
    },
    "language_info": {
      "name": "python"
    }
  },
  "cells": [
    {
      "cell_type": "markdown",
      "metadata": {
        "id": "view-in-github",
        "colab_type": "text"
      },
      "source": [
        "<a href=\"https://colab.research.google.com/github/Angelasilva15/inform-tica/blob/main/exporta%C3%A7%C3%A3o.ipynb\" target=\"_parent\"><img src=\"https://colab.research.google.com/assets/colab-badge.svg\" alt=\"Open In Colab\"/></a>"
      ]
    },
    {
      "cell_type": "code",
      "execution_count": 6,
      "metadata": {
        "colab": {
          "base_uri": "https://localhost:8080/"
        },
        "id": "mDOkTEcMI8hi",
        "outputId": "c61086bb-19b8-4833-b9fc-f2f8c22ac7ad"
      },
      "outputs": [
        {
          "output_type": "stream",
          "name": "stdout",
          "text": [
            "--- Visão Geral dos Dados ---\n",
            "   CO_ANO  CO_MES   SH4  CO_PAIS SG_UF_MUN   CO_MUN  KG_LIQUIDO  VL_FOB\n",
            "0    2021       3  3305      493        SP  3434401         966    7788\n",
            "1    2021       7  8419      386        SP  3409502           1    1544\n",
            "2    2021      12  8511       63        PR  4106902          73     907\n",
            "3    2021       7  6204      586        SC  4202909          75    3942\n",
            "4    2021       8  8708       63        SP  3440002        6949   29604\n",
            "\n",
            "--- Informações da Tabela ---\n",
            "<class 'pandas.core.frame.DataFrame'>\n",
            "RangeIndex: 1075522 entries, 0 to 1075521\n",
            "Data columns (total 8 columns):\n",
            " #   Column      Non-Null Count    Dtype \n",
            "---  ------      --------------    ----- \n",
            " 0   CO_ANO      1075522 non-null  int64 \n",
            " 1   CO_MES      1075522 non-null  int64 \n",
            " 2   SH4         1075522 non-null  int64 \n",
            " 3   CO_PAIS     1075522 non-null  int64 \n",
            " 4   SG_UF_MUN   1075522 non-null  object\n",
            " 5   CO_MUN      1075522 non-null  int64 \n",
            " 6   KG_LIQUIDO  1075522 non-null  int64 \n",
            " 7   VL_FOB      1075522 non-null  int64 \n",
            "dtypes: int64(7), object(1)\n",
            "memory usage: 65.6+ MB\n",
            "\n",
            "--- Estatísticas Descritivas ---\n",
            "         KG_LIQUIDO        VL_FOB\n",
            "count  1.075522e+06  1.075522e+06\n",
            "mean   6.512067e+05  2.610961e+05\n",
            "std    3.056795e+07  5.322753e+06\n",
            "min    0.000000e+00  0.000000e+00\n",
            "25%    8.000000e+00  1.800000e+02\n",
            "50%    1.080000e+02  2.087000e+03\n",
            "75%    5.100000e+03  2.841800e+04\n",
            "max    8.814381e+09  1.402920e+09\n",
            "\n",
            "--- Análise por Ano (Valor Total em FOB) ---\n",
            "CO_ANO\n",
            "2021    280814577460\n",
            "Name: VL_FOB, dtype: int64\n",
            "\n",
            "--- Top 10 Estados por Valor de Exportação ---\n",
            "SG_UF_MUN\n",
            "SP    57419343322\n",
            "RJ    37243334086\n",
            "MG    34573433223\n",
            "PA    29353235439\n",
            "PR    21176647686\n",
            "MT    20242007740\n",
            "RS    19610446709\n",
            "SC    12801166514\n",
            "ES     9719986226\n",
            "BA     9496277741\n",
            "Name: VL_FOB, dtype: int64\n"
          ]
        }
      ],
      "source": [
        "import pandas as pd\n",
        "import glob\n",
        "import os\n",
        "\n",
        "def analyze_export_data():\n",
        "    \"\"\"\n",
        "    Carrega, consolida e analisa dados de exportação de múltiplos arquivos CSV.\n",
        "    \"\"\"\n",
        "    all_files = glob.glob(os.path.join(os.getcwd(), \"/EXP_2021_MUN.csv\"))\n",
        "\n",
        "    if not all_files:\n",
        "        print(\"Nenhum arquivo 'EXP_*.csv' encontrado no diretório atual.\")\n",
        "        return\n",
        "\n",
        "    df_list = []\n",
        "    for f in all_files:\n",
        "        try:\n",
        "            df = pd.read_csv(f, sep=';', on_bad_lines='skip')\n",
        "            df_list.append(df)\n",
        "        except Exception as e:\n",
        "            print(f\"Erro ao ler o arquivo {f}: {e}\")\n",
        "\n",
        "    if not df_list:\n",
        "        print(\"Não foi possível carregar nenhum arquivo.\")\n",
        "        return\n",
        "\n",
        "    combined_df = pd.concat(df_list, ignore_index=True)\n",
        "\n",
        "    # Convertendo colunas para o tipo correto, lidando com erros\n",
        "    for col in ['CO_ANO', 'CO_MES', 'KG_LIQUIDO', 'VL_FOB']:\n",
        "        combined_df[col] = pd.to_numeric(combined_df[col], errors='coerce')\n",
        "\n",
        "    print(\"--- Visão Geral dos Dados ---\")\n",
        "    print(combined_df.head())\n",
        "    print(\"\\n--- Informações da Tabela ---\")\n",
        "    combined_df.info()\n",
        "\n",
        "    print(\"\\n--- Estatísticas Descritivas ---\")\n",
        "    print(combined_df[['KG_LIQUIDO', 'VL_FOB']].describe())\n",
        "\n",
        "    print(\"\\n--- Análise por Ano (Valor Total em FOB) ---\")\n",
        "    total_fob_by_year = combined_df.groupby('CO_ANO')['VL_FOB'].sum().sort_index()\n",
        "    print(total_fob_by_year)\n",
        "\n",
        "    print(\"\\n--- Top 10 Estados por Valor de Exportação ---\")\n",
        "    top_states = combined_df.groupby('SG_UF_MUN')['VL_FOB'].sum().nlargest(10)\n",
        "    print(top_states)\n",
        "\n",
        "if __name__ == \"__main__\":\n",
        "    analyze_export_data()"
      ]
    },
    {
      "cell_type": "code",
      "metadata": {
        "id": "1d0b2177"
      },
      "source": [
        "from google.colab import drive\n",
        "drive.mount('/content/drive')"
      ],
      "execution_count": null,
      "outputs": []
    }
  ]
}